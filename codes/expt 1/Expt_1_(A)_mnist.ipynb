{
  "nbformat": 4,
  "nbformat_minor": 0,
  "metadata": {
    "colab": {
      "provenance": []
    },
    "kernelspec": {
      "name": "python3",
      "display_name": "Python 3"
    },
    "language_info": {
      "name": "python"
    }
  },
  "cells": [
    {
      "cell_type": "markdown",
      "source": [
        "numpy\n",
        "which is used by numpy"
      ],
      "metadata": {
        "id": "_B7dx7n1l01p"
      }
    },
    {
      "cell_type": "code",
      "source": [
        "#import the necessary libraries\n",
        "import numpy as np    #perform numerical computations\n",
        "import matplotlib.pyplot as plt  #graph visualization\n",
        "\n",
        "#Load the dataset\n",
        "data = np.load(\"/content/mnist.npz\")\n"
      ],
      "metadata": {
        "id": "iOUES913l1uh"
      },
      "execution_count": null,
      "outputs": []
    },
    {
      "cell_type": "markdown",
      "source": [
        "Check the files"
      ],
      "metadata": {
        "id": "HqHKMt9Pu1Qy"
      }
    },
    {
      "cell_type": "code",
      "source": [
        "print(data.files)"
      ],
      "metadata": {
        "colab": {
          "base_uri": "https://localhost:8080/"
        },
        "id": "41zo4kAZu295",
        "outputId": "bd464cbc-220b-42a3-8cec-d54fbde5c169"
      },
      "execution_count": null,
      "outputs": [
        {
          "output_type": "stream",
          "name": "stdout",
          "text": [
            "['x_test', 'x_train', 'y_train', 'y_test']\n"
          ]
        }
      ]
    },
    {
      "cell_type": "code",
      "source": [
        "x_train = data['x_train']   #load training input features\n",
        "y_train = data['y_train']   #load the corresponding training labels\n",
        "x_test = data['x_test']     #load the testing features\n",
        "y_test = data['y_test']     #load the corresponding testing labels\n"
      ],
      "metadata": {
        "id": "cHOJjbHnvAvR"
      },
      "execution_count": null,
      "outputs": []
    },
    {
      "cell_type": "markdown",
      "source": [
        "Printing the Shapes of the Datasets\n",
        "\n",
        "x_train.shape: Shows the dimensions of the training input data.\n",
        "\n",
        "y_train.shape: Shows the dimensions of the training labels.\n",
        "\n",
        "x_test.shape: Shows the dimensions of the test input data.\n",
        "\n",
        "y_test.shape: Shows the dimensions of the test labels."
      ],
      "metadata": {
        "id": "Tsfv3S3iP7Vd"
      }
    },
    {
      "cell_type": "code",
      "source": [
        "print(f\"Training data shape: {x_train.shape}, Labels shape: {y_train.shape}\")\n",
        "print(f\"Test data shape: {x_test.shape}, Labels shape: {y_test.shape}\")"
      ],
      "metadata": {
        "colab": {
          "base_uri": "https://localhost:8080/"
        },
        "id": "-Qii0ygcP37a",
        "outputId": "ac204db9-98db-4f6e-fd8c-fec0b18aafbd"
      },
      "execution_count": null,
      "outputs": [
        {
          "output_type": "stream",
          "name": "stdout",
          "text": [
            "Training data shape: (60000, 28, 28), Labels shape: (60000,)\n",
            "Test data shape: (10000, 28, 28), Labels shape: (10000,)\n"
          ]
        }
      ]
    },
    {
      "cell_type": "code",
      "source": [
        "\n",
        "# Set the numbers of images to be display\n",
        "num_images = 9\n",
        "\n",
        "#create a figure for display\n",
        "plt.figure(figsize=(10, 10))\n",
        "\n",
        "# Loop through and display 9 images\n",
        "#Iterate the first 9 images in X_train\n",
        "for i in range(num_images):\n",
        "  #Create subplots of 3X3 grid\n",
        "    plt.subplot(3, 3, i + 1)   #i+1 -> to start the idx from 1\n",
        "    #Display the image idx i in grayscale mode\n",
        "    plt.imshow(x_train[i], cmap='gray')\n",
        "\n",
        "    #display the corresponding label of Y_train[i] of above image\n",
        "    plt.title(f\"Label: {y_train[i]}\")\n",
        "    plt.axis(\"off\")  # Hide axis for cleaner look\n",
        "\n",
        "#Display all the 9 figure images\n",
        "plt.show()\n"
      ],
      "metadata": {
        "colab": {
          "base_uri": "https://localhost:8080/",
          "height": 829
        },
        "id": "yGx4Pwc8xV2T",
        "outputId": "30a97400-fea4-4431-c109-5463c46a288c"
      },
      "execution_count": null,
      "outputs": [
        {
          "output_type": "display_data",
          "data": {
            "text/plain": [
              "<Figure size 1000x1000 with 9 Axes>"
            ],
            "image/png": "[encoded data removed]"
          },
          "metadata": {}
        }
      ]
    }
  ]
}